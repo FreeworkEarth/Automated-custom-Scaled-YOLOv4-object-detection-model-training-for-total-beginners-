{
  "nbformat": 4,
  "nbformat_minor": 0,
  "metadata": {
    "colab": {
      "name": "00_autodownload_DatasetOpenImages_OiDv4Toolkit_YOLO_annotation.ipynb",
      "provenance": [],
      "collapsed_sections": [],
      "machine_shape": "hm",
      "authorship_tag": "ABX9TyNOnamKCa7iPz5erfjH2TKT",
      "include_colab_link": true
    },
    "kernelspec": {
      "display_name": "Python 3",
      "name": "python3"
    },
    "accelerator": "GPU"
  },
  "cells": [
    {
      "cell_type": "markdown",
      "metadata": {
        "id": "view-in-github",
        "colab_type": "text"
      },
      "source": [
        "<a href=\"https://colab.research.google.com/github/FreeworkEarth/Automated-custom-Scaled-YOLOv4-object-detection-model-training-for-total-beginners-/blob/main/00_autodownload_DatasetOpenImages_OiDv4Toolkit_YOLO_annotation.ipynb\" target=\"_parent\"><img src=\"https://colab.research.google.com/assets/colab-badge.svg\" alt=\"Open In Colab\"/></a>"
      ]
    },
    {
      "cell_type": "markdown",
      "metadata": {
        "id": "0kUnUxjgTvBu"
      },
      "source": [
        "## AUTOMATED YOLO Custom Open Images DATASET download @\n",
        "https://storage.googleapis.com/openimages/web/visualizer/index.html?set=train&type=detection&c=%2Fm%2F0ch_cf\n",
        "\n",
        "  == labelling/annotation for YOLO model + saving to Google Drive for object detection models\n",
        "\n",
        "---\n",
        "\n"
      ]
    },
    {
      "cell_type": "markdown",
      "metadata": {
        "id": "KMldOUELF2OL"
      },
      "source": [
        "# Table of contents\n",
        "\n",
        "\n",
        "## 1. Parameters\n",
        "\n",
        "\n",
        "\n",
        "## 2. Download + Annotate(YOLO) Dataset\n",
        "\n",
        "\n",
        "\n",
        "## 3. Copy Downloaded Dataset into Google Drive\n",
        "\n",
        "#Resources\n",
        "**Thanks to Google(dataset), Vittorio, Angelo(dataset download Toolkit and \n",
        "theAIGuy (datset -> YOLO annotation extension)**\n",
        "\n",
        "https://github.com/theAIGuysCode/OIDv4_ToolKit\n",
        "\n",
        "https://storage.googleapis.com/openimages/web/index.html\n",
        "\n",
        "https://medium.com/analytics-vidhya/create-your-own-dataset-for-yolov4-object-detection-in-5-minutes-fdc988231088\n",
        "\n",
        "\n"
      ]
    },
    {
      "cell_type": "markdown",
      "metadata": {
        "id": "czSfiBJYUTjy"
      },
      "source": [
        "# PARAMETERS"
      ]
    },
    {
      "cell_type": "code",
      "metadata": {
        "id": "MmEvNDiSUTFU",
        "cellView": "form"
      },
      "source": [
        "#EXAMPLE Classes training and number images\n",
        "copied_class_names = ['Vehicle registration plate','Traffic sign','Car','Stop sign','Street light', 'Human body','Human face']\n",
        "copied_class_names = ['Vehicle registration plate','Traffic sign','Car','Human body']\n",
        "#copied_class_names = ['Plastic bag ', 'Alpaca', 'Armadillo','Bee', 'Koala','Otter']\n",
        "#copied_class_names = [ 'Marine invertebrates','Jellyfish', 'Marine mammal','Shellfish', 'Fish', 'Starfish','Shark', 'Whale', 'Dolphin','Seahorse','Sea turtle','Rays and skates']\n",
        "#copied_class_names = ['Surfboard', 'Parachute', 'Kite', 'Piano', 'Snowboard']\n",
        "#copied_class_names = ['Vehicle registration plate', 'Stop sign','Traffic sign','Car','Street light', 'Human face','Plastic bag', 'Alpaca', 'Armadillo','Bee', 'Koala','Marine mammal','Otter', 'Marine invertebrates','Jellyfish', 'Shellfish', 'Fish', 'Starfish','Shark', 'Whale', 'Dolphin','Seahorse','Sea turtle','Rays and skates', 'Surfboard', 'Parachute', 'Kite', 'Piano']\n",
        "\n",
        "\n",
        "\n",
        "#@title MANDATORY PARAMETERS FORM for DATASET Downloader\n",
        "\n",
        "#@markdown CLASSES to download:\n",
        "copied_class_names ='Vehicle registration plate,Traffic sign,Car,Human body' #@param {type: 'string'}\n",
        "#@markdown Number of images each class: (around 150-200 per class as basic reference value):\n",
        "nummber_of_donwload_images_per_class = 150 #@param {type: \"slider\", min: 1, max: 1000, step:1}\n",
        "#@markdown Google Drive YOLO ROOT path folder for your custom dataset\n",
        "root_folder_YOLO_dataset = '/YOLO' #@param {type: \"string\"}\n"
      ],
      "execution_count": null,
      "outputs": []
    },
    {
      "cell_type": "code",
      "metadata": {
        "colab": {
          "base_uri": "https://localhost:8080/"
        },
        "id": "dmVGWkQ-RfN-",
        "outputId": "52162f04-cab2-448b-c75e-0781d6990be6"
      },
      "source": [
        "print(f'Type class names before split: {type(copied_class_names)}')\n",
        "\n",
        "copied_class_names = copied_class_names.replace(\", \",\",\")\n",
        "copied_class_names = copied_class_names.replace(\"  \",\"\")\n",
        "copied_class_names = copied_class_names.replace(\"   \",\"\")\n",
        "copied_class_names = copied_class_names.replace(\"    \",\"\")\n",
        "string_class_names = copied_class_names\n",
        "# split string and change to list\n",
        "copied_class_names = copied_class_names.split(',')\n",
        "print(f'Type class names after split: {type(copied_class_names)}')\n",
        "\n",
        "nmbr_train_images = nummber_of_donwload_images_per_class\n",
        "print(f'copied class names {copied_class_names} with \\n number of classes: {len(copied_class_names)}' )\n",
        "print(f'Number of images to download: {nmbr_train_images}')"
      ],
      "execution_count": null,
      "outputs": [
        {
          "output_type": "stream",
          "text": [
            "Type class names before split: <class 'str'>\n",
            "Type class names after split: <class 'list'>\n",
            "copied class names ['Vehicle registration plate', 'Traffic sign', 'Car', 'Human body'] with \n",
            " number of classes: 4\n",
            "Number of images to download: 150\n"
          ],
          "name": "stdout"
        }
      ]
    },
    {
      "cell_type": "code",
      "metadata": {
        "id": "74AuqUOiI-zl",
        "colab": {
          "base_uri": "https://localhost:8080/"
        },
        "outputId": "43f96726-4d26-444a-ab57-03fe17590b0b"
      },
      "source": [
        "#!/usr/bin/python\n",
        "# -*- coding: utf-8 -*-\n",
        "import os\n",
        "import sys\n",
        "import shutil\n",
        "import datetime\n",
        "ROOT_DIR = os.getcwd()\n",
        "print(f'ROOT Directory of Google Colab: \\n {ROOT_DIR}')\n",
        "print(datetime.datetime.now().strftime('%x'))\n",
        "import ipywidgets as widgets\n",
        "date = str(datetime.datetime.now().strftime('%x'))\n",
        "print(date)\n",
        "date = date.replace(\"/\", \"_\")\n",
        "print(date)"
      ],
      "execution_count": null,
      "outputs": [
        {
          "output_type": "stream",
          "text": [
            "ROOT Directory of Google Colab: \n",
            " /content\n",
            "08/02/21\n",
            "08/02/21\n",
            "08_02_21\n"
          ],
          "name": "stdout"
        }
      ]
    },
    {
      "cell_type": "markdown",
      "metadata": {
        "id": "HEbwHAsA_aR4"
      },
      "source": [
        "## Not Mandatory:"
      ]
    },
    {
      "cell_type": "code",
      "metadata": {
        "colab": {
          "base_uri": "https://localhost:8080/"
        },
        "id": "PYEJNf0w_UZ-",
        "outputId": "9389ed5a-0fe7-43f9-a2ea-b2c206fdc853"
      },
      "source": [
        "#validation set yes/ no and number of validation images\n",
        "include_validation_set = 0         # binary: 0:no, 1:yes\n",
        "nmbr_validation_images = round(0.7 * nmbr_train_images)\n",
        "print(nmbr_validation_images)"
      ],
      "execution_count": null,
      "outputs": [
        {
          "output_type": "stream",
          "text": [
            "105\n"
          ],
          "name": "stdout"
        }
      ]
    },
    {
      "cell_type": "code",
      "metadata": {
        "id": "Dn_05S48Q5__"
      },
      "source": [
        "# Standard Variables in COLAB (usually not necesaacry to set)\n",
        "DATASET_Folder_name = 'DATASET'\n",
        "\n",
        "string_classes_foldername = \"\"\n",
        "for idx,val in enumerate(copied_class_names):\n",
        "  string_classes_foldername += val + \"_\"\n",
        "  string_classes_foldername = string_classes_foldername.replace(\" \", \"_\")\n",
        "  string_classes_foldername = string_classes_foldername.replace(\"__\", \"_\")"
      ],
      "execution_count": null,
      "outputs": []
    },
    {
      "cell_type": "code",
      "metadata": {
        "id": "gTXr8LlL0NmJ"
      },
      "source": [
        "while string_classes_foldername.startswith(\"_\"):\n",
        "  string_classes_foldername = string_classes_foldername[1:]"
      ],
      "execution_count": null,
      "outputs": []
    },
    {
      "cell_type": "code",
      "metadata": {
        "colab": {
          "base_uri": "https://localhost:8080/"
        },
        "id": "fbCmn0ah0Ht9",
        "outputId": "d367ca77-3070-41c7-8a7a-cb4068fe68c2"
      },
      "source": [
        "print(f'String foldername for GDrive:{string_classes_foldername}')\n",
        "path_YOLO_create = ROOT_DIR +  '/gdrive/MyDrive' + root_folder_YOLO_dataset\n",
        "print('Path for YOLO dataset:'.format(path_YOLO_create))"
      ],
      "execution_count": null,
      "outputs": [
        {
          "output_type": "stream",
          "text": [
            "String foldername for GDrive:Vehicle_registration_plate_Traffic_sign_Car_Human_body_\n",
            "Path for YOLO dataset:\n"
          ],
          "name": "stdout"
        }
      ]
    },
    {
      "cell_type": "code",
      "metadata": {
        "id": "rRR3E5kduERX",
        "colab": {
          "base_uri": "https://localhost:8080/"
        },
        "outputId": "fba5de6c-bea9-44c0-8b2c-1075a82042ed"
      },
      "source": [
        "os.chdir(ROOT_DIR)\n",
        "### MOUNT Google Drive\n",
        "from google.colab import drive\n",
        "drive.mount('/{}/gdrive'.format(ROOT_DIR),force_remount=True)\n",
        "# this creates a symbolic link so that now the path /content/gdrive/My\\ Drive/ is equal to /mydrive\n",
        "!ln -s /content/gdrive/My\\ Drive/ /mydrive \n",
        "\n",
        "!ls /mydrive"
      ],
      "execution_count": null,
      "outputs": [
        {
          "output_type": "stream",
          "text": [
            "Mounted at //content/gdrive\n",
            " 000_Medium\n",
            " 00_GAIA\n",
            " 00_Masterthesis\n",
            "'01_masterthesis_latex (38).docx'\n",
            "'01_masterthesis_latex (6).pdf'\n",
            "'02072019_LS_VarReg (1).gdoc'\n",
            "'02072019_LS_VarReg (2).gdoc'\n",
            " 02072019_LS_VarReg.gdoc\n",
            "'05082019_LS_FCB Hertha.gdoc'\n",
            "'06102019_CH_FCH _VFL BO (1).gdoc'\n",
            "'06102019_CH_FCH _VFL BO.gdoc'\n",
            "'09112019_CH_FCB _BVB.gdoc'\n",
            "'1019538758(1).csv'\n",
            " 1019538758.csv\n",
            "'~$102019_CH_FCH _VFL BO (1).gdoc'\n",
            "'~$102019_CH_FCH _VFL BO (2).gdoc'\n",
            "'~$102019_CH_FCH _VFL BO.gdoc'\n",
            "'2015-02-08 11.52.19.jpg'\n",
            " 20180327_Siemens_Airport_James.pptx\n",
            " 2019_Book_ThePythonWorkbook.pdf\n",
            " 20210209-8067977-umsatz.CSV\n",
            " 7_tage_inzidenz_03022021.pdf\n",
            " AI_ML\n",
            " amazon_rücksendung_Hemden_tracht.PNG\n",
            " Antrag-auf-Verlängerung-der-Frist-zur-Ablegung-der-GOP_Studienzeitverlängerung_TechFak.pdf\n",
            " Antragsformular_Anerkennung_WING-MB_BA.docx\n",
            " AttendeeGuide_QiskitGlobalSummerSchoolStudent.pdf\n",
            " Bewerbung_Jobs\n",
            "'Bewerbungsinfomrationen Consulting.docx'\n",
            " Bilder\n",
            " Bildungskredt_Master.pdf\n",
            "'bus 60.pdf'\n",
            " CGI_Design\n",
            " CICD_utils_CLI_click.drawio\n",
            " CICD_utils_CLI_Readme\n",
            " classes.txt\n",
            "'Colab Notebooks'\n",
            "'Cons (Automatisch gespeichert).docx'\n",
            " Cons.docx\n",
            " cons.pptx\n",
            "'contrato arrendamiento peru  hab 4 Christof Haring.docx'\n",
            " craft_mlt_25k.pth\n",
            " Crypto\n",
            " DATASETS_AI\n",
            " detection1.jpg\n",
            " Detlef_Maier_Diss_Druckfreigabe_20150130.pdf\n",
            " Dive_deepölearning.pdf\n",
            " DKB_finanz_2018.pdf\n",
            " DKB_finanz_2019.pdf\n",
            " DKB_finanz_2020.pdf\n",
            " DLExercise.rar\n",
            "'Document from Chris Harri'\n",
            " DSC_0019.jpg\n",
            " DSC_0253.JPG\n",
            "'Dyson Air Multiplier Am06.docx'\n",
            "'ElsterOnline - Privater Bereich - Formulare - Einkommensteuer - Versandbestätigung.pdf'\n",
            " ENFP_A.jpg\n",
            " ENFP_T.jpg\n",
            " ENTJ_A.jpg\n",
            " eTicket.pdf\n",
            "'FAU Passwortliste (Wiederhergestellt).gsheet'\n",
            " FREEWORK\n",
            "'fujistsu garantieverlängerung.docx'\n",
            "'Ganzseitiges Foto.pdf'\n",
            "'GdgDevParty Blockchain.gslides'\n",
            "'Gmail - Booking Confirmation - Hi Tide Hostel - 3892-126066158-65998.pdf'\n",
            "'IBM Summer school'\n",
            " IMG_20170523_141542201.jpg\n",
            " IMG_20170523_141757829.jpg\n",
            " IMG-20170703-WA0012.jpg\n",
            " IMG-20170703-WA0013.jpg\n",
            " IMG-20170703-WA0014.jpg\n",
            " IMG-20170703-WA0015.jpg\n",
            " IMG_20190121_092031.jpg\n",
            " Immatrikulatonsbeschedi__Bescheid_po69jojy_.pdf\n",
            " Last_call_payment_Jernej_Peteh.gdoc\n",
            "'Liebe Formula Student Kollegen.docx'\n",
            " Literatur\n",
            "'Machine Learning and Quantum Devices.pdf'\n",
            " Masterarbeit_ONEDRIVE_CLOUD_COPY_nomarkups.pdf\n",
            " Masterthesis_Haring.pdf\n",
            "'Master wing'\n",
            "'Ml coursera'\n",
            " ML_PIpeline_Flowchart-Page-1.pdf\n",
            "'My Drive'\n",
            "'ols test 2.pdf'\n",
            " OrgaLEBEN\n",
            " Präsentation_Räder_und_reifen.pdf\n",
            " PR_ML_DL_AI_NAO\n",
            " Projektarbeit_Vortrag\n",
            " Python_cheatsheets_all_datacamp.pdf\n",
            " python.pdf\n",
            " QAI\n",
            "'QAI linkedIN.gdoc'\n",
            "'QAI Q-Comp Literature .gsheet'\n",
            "'Qiskit Summer School'\n",
            " QML_HEP_eval_CH\n",
            "'qml resources for qiskit-school 2020.gdoc'\n",
            " QUANTUM\n",
            " QxQ\n",
            " reisepass.JPG\n",
            " Russian_Hacker_ATMS_GOOGLEGROUP_YOLO.pdf\n",
            " Scaled_YOLO_TF\n",
            " Scysanner_beweisfoto.PNG\n",
            " security_plan_Schaeffler_Belrose.pdf\n",
            "'SIEMENS EDGE CLI'\n",
            "'SMC Anschreiben.docx'\n",
            "'#Sometging is wrong here 2.jpg'\n",
            "'#Something is wrong here 1.jpg'\n",
            " Sparkasse_2018_2019.pdf\n",
            " Speechnotes\n",
            "'Starship renders '\n",
            " star_wars_leo.pdf\n",
            " stratton\n",
            " Studium\n",
            " Stundenplan.pdf\n",
            "'SüWü Schichten 2021.gsheet'\n",
            " Testimage_YOLOV3.jpg\n",
            "'Train_YoloV3 .ipynb'\n",
            " Travels\n",
            "'Unbenannte Tabelle.gsheet'\n",
            " Untermietvertrag_Zimmer_Immanuel_Oppolzer.pdf\n",
            " Untermietvertrag_Zimmer_Immanuel_Oppolzer.rtf\n",
            "'Vehicle Dynamics'\n",
            " YOLO\n",
            "'yolov3 ?'\n",
            " yolov4\n",
            " zulassungsbescheid_WING.pdf\n"
          ],
          "name": "stdout"
        }
      ]
    },
    {
      "cell_type": "code",
      "metadata": {
        "id": "QObAWuQyFlqz",
        "colab": {
          "base_uri": "https://localhost:8080/"
        },
        "outputId": "b87397c5-12b2-4316-d848-c1b8ea511b27"
      },
      "source": [
        "## Donwload Toolkit from Github\n",
        "os.chdir(ROOT_DIR)\n",
        "!git clone https://github.com/theAIGuysCode/OIDv4_ToolKit.git"
      ],
      "execution_count": null,
      "outputs": [
        {
          "output_type": "stream",
          "text": [
            "Cloning into 'OIDv4_ToolKit'...\n",
            "remote: Enumerating objects: 444, done.\u001b[K\n",
            "remote: Total 444 (delta 0), reused 0 (delta 0), pack-reused 444\u001b[K\n",
            "Receiving objects: 100% (444/444), 34.09 MiB | 44.08 MiB/s, done.\n",
            "Resolving deltas: 100% (157/157), done.\n"
          ],
          "name": "stdout"
        }
      ]
    },
    {
      "cell_type": "code",
      "metadata": {
        "id": "uZ_bBvZ5OZAG",
        "colab": {
          "base_uri": "https://localhost:8080/"
        },
        "outputId": "a2f21ecd-a714-432e-ef65-fcee2a5a489a"
      },
      "source": [
        "os.chdir(ROOT_DIR)\n",
        "print(os.getcwd())\n",
        "print(os.listdir('/{}'.format(os.getcwd())))\n",
        "\n",
        "# check if Toolkit folder in directory and create toolkit path\n",
        "for i in range(len(os.listdir('/{}'.format(os.getcwd())))):\n",
        "  print(os.listdir('/{}'.format(os.getcwd()))[i])\n",
        "  if os.listdir('/{}'.format(os.getcwd()))[i].endswith('ToolKit'):\n",
        "    Foldername_Toolkit = os.listdir('/{}'.format(os.getcwd()))[i]\n",
        "  else:\n",
        "    pass\n",
        "print('The Toolkit Foldername is:  {}'.format(Foldername_Toolkit))\n"
      ],
      "execution_count": null,
      "outputs": [
        {
          "output_type": "stream",
          "text": [
            "/content\n",
            "['.config', 'gdrive', 'OIDv4_ToolKit', 'sample_data']\n",
            ".config\n",
            "gdrive\n",
            "OIDv4_ToolKit\n",
            "sample_data\n",
            "The Toolkit Foldername is:  OIDv4_ToolKit\n"
          ],
          "name": "stdout"
        }
      ]
    },
    {
      "cell_type": "code",
      "metadata": {
        "id": "IUADkIXt8Co1",
        "colab": {
          "base_uri": "https://localhost:8080/"
        },
        "outputId": "14b73f12-1af1-4ecc-940f-fb1e2fb1e766"
      },
      "source": [
        "os.chdir(Foldername_Toolkit)\n",
        "!pip install -r requirements.txt"
      ],
      "execution_count": null,
      "outputs": [
        {
          "output_type": "stream",
          "text": [
            "Requirement already satisfied: pandas in /usr/local/lib/python3.7/dist-packages (from -r requirements.txt (line 1)) (1.1.5)\n",
            "Requirement already satisfied: numpy in /usr/local/lib/python3.7/dist-packages (from -r requirements.txt (line 2)) (1.19.5)\n",
            "Collecting awscli\n",
            "  Downloading awscli-1.20.11-py3-none-any.whl (3.7 MB)\n",
            "\u001b[K     |████████████████████████████████| 3.7 MB 5.4 MB/s \n",
            "\u001b[?25hRequirement already satisfied: urllib3 in /usr/local/lib/python3.7/dist-packages (from -r requirements.txt (line 4)) (1.24.3)\n",
            "Requirement already satisfied: tqdm in /usr/local/lib/python3.7/dist-packages (from -r requirements.txt (line 5)) (4.41.1)\n",
            "Requirement already satisfied: opencv-python in /usr/local/lib/python3.7/dist-packages (from -r requirements.txt (line 6)) (4.1.2.30)\n",
            "Requirement already satisfied: pytz>=2017.2 in /usr/local/lib/python3.7/dist-packages (from pandas->-r requirements.txt (line 1)) (2018.9)\n",
            "Requirement already satisfied: python-dateutil>=2.7.3 in /usr/local/lib/python3.7/dist-packages (from pandas->-r requirements.txt (line 1)) (2.8.1)\n",
            "Requirement already satisfied: six>=1.5 in /usr/local/lib/python3.7/dist-packages (from python-dateutil>=2.7.3->pandas->-r requirements.txt (line 1)) (1.15.0)\n",
            "Collecting s3transfer<0.6.0,>=0.5.0\n",
            "  Downloading s3transfer-0.5.0-py3-none-any.whl (79 kB)\n",
            "\u001b[K     |████████████████████████████████| 79 kB 9.8 MB/s \n",
            "\u001b[?25hCollecting colorama<0.4.4,>=0.2.5\n",
            "  Downloading colorama-0.4.3-py2.py3-none-any.whl (15 kB)\n",
            "Collecting botocore==1.21.11\n",
            "  Downloading botocore-1.21.11-py3-none-any.whl (7.8 MB)\n",
            "\u001b[K     |████████████████████████████████| 7.8 MB 35.6 MB/s \n",
            "\u001b[?25hRequirement already satisfied: rsa<4.8,>=3.1.2 in /usr/local/lib/python3.7/dist-packages (from awscli->-r requirements.txt (line 3)) (4.7.2)\n",
            "Collecting docutils<0.16,>=0.10\n",
            "  Downloading docutils-0.15.2-py3-none-any.whl (547 kB)\n",
            "\u001b[K     |████████████████████████████████| 547 kB 64.4 MB/s \n",
            "\u001b[?25hRequirement already satisfied: PyYAML<5.5,>=3.10 in /usr/local/lib/python3.7/dist-packages (from awscli->-r requirements.txt (line 3)) (3.13)\n",
            "Collecting urllib3\n",
            "  Downloading urllib3-1.26.6-py2.py3-none-any.whl (138 kB)\n",
            "\u001b[K     |████████████████████████████████| 138 kB 94.9 MB/s \n",
            "\u001b[?25hCollecting jmespath<1.0.0,>=0.7.1\n",
            "  Downloading jmespath-0.10.0-py2.py3-none-any.whl (24 kB)\n",
            "Requirement already satisfied: pyasn1>=0.1.3 in /usr/local/lib/python3.7/dist-packages (from rsa<4.8,>=3.1.2->awscli->-r requirements.txt (line 3)) (0.4.8)\n",
            "Installing collected packages: urllib3, jmespath, botocore, s3transfer, docutils, colorama, awscli\n",
            "  Attempting uninstall: urllib3\n",
            "    Found existing installation: urllib3 1.24.3\n",
            "    Uninstalling urllib3-1.24.3:\n",
            "      Successfully uninstalled urllib3-1.24.3\n",
            "  Attempting uninstall: docutils\n",
            "    Found existing installation: docutils 0.17.1\n",
            "    Uninstalling docutils-0.17.1:\n",
            "      Successfully uninstalled docutils-0.17.1\n",
            "\u001b[31mERROR: pip's dependency resolver does not currently take into account all the packages that are installed. This behaviour is the source of the following dependency conflicts.\n",
            "requests 2.23.0 requires urllib3!=1.25.0,!=1.25.1,<1.26,>=1.21.1, but you have urllib3 1.26.6 which is incompatible.\n",
            "datascience 0.10.6 requires folium==0.2.1, but you have folium 0.8.3 which is incompatible.\u001b[0m\n",
            "Successfully installed awscli-1.20.11 botocore-1.21.11 colorama-0.4.3 docutils-0.15.2 jmespath-0.10.0 s3transfer-0.5.0 urllib3-1.26.6\n"
          ],
          "name": "stdout"
        }
      ]
    },
    {
      "cell_type": "code",
      "metadata": {
        "id": "c4rhB8OIirhK",
        "colab": {
          "base_uri": "https://localhost:8080/"
        },
        "outputId": "a3dcd8b9-2126-476a-9e10-e34cc60f6935"
      },
      "source": [
        "!ls\n",
        "os.listdir('/{}'.format(os.getcwd()))"
      ],
      "execution_count": null,
      "outputs": [
        {
          "output_type": "stream",
          "text": [
            "classes.txt\t\timages\t main.py  README.md\n",
            "convert_annotations.py\tLICENSE  modules  requirements.txt\n"
          ],
          "name": "stdout"
        },
        {
          "output_type": "execute_result",
          "data": {
            "text/plain": [
              "['requirements.txt',\n",
              " 'LICENSE',\n",
              " 'README.md',\n",
              " '.gitignore',\n",
              " 'images',\n",
              " 'modules',\n",
              " 'convert_annotations.py',\n",
              " 'main.py',\n",
              " '.git',\n",
              " 'classes.txt']"
            ]
          },
          "metadata": {
            "tags": []
          },
          "execution_count": 12
        }
      ]
    },
    {
      "cell_type": "code",
      "metadata": {
        "id": "r0GjmpfPRpgf",
        "colab": {
          "base_uri": "https://localhost:8080/"
        },
        "outputId": "e4df5eec-c1d4-406b-dbab-ad9e9ba6c41b"
      },
      "source": [
        "\"\"\"Create classes.txt in ROOT_DIR with each object class one line and\n",
        "--->>  NO UNDERSCORES \"\"\" \n",
        "os.chdir(ROOT_DIR)\n",
        "with open('classes.txt', 'w') as f:\n",
        "    for classname in range(len(copied_class_names)):\n",
        "        f.write(copied_class_names[classname])\n",
        "        f.write(\"\\n\")\n",
        "\n",
        "# check if classes.txt in \n",
        "!ls"
      ],
      "execution_count": null,
      "outputs": [
        {
          "output_type": "stream",
          "text": [
            "classes.txt  gdrive  OIDv4_ToolKit  sample_data\n"
          ],
          "name": "stdout"
        }
      ]
    },
    {
      "cell_type": "code",
      "metadata": {
        "id": "ztfq5OanRSRx",
        "colab": {
          "base_uri": "https://localhost:8080/"
        },
        "outputId": "c76fcbb3-bc7d-4b0d-c212-4a49b7ddf4fe"
      },
      "source": [
        "os.chdir(ROOT_DIR + '/' + Foldername_Toolkit)\n",
        "\n",
        "# Correct String for Toolkit command with underscores inside single classes and space bwtween classes\n",
        "classes_open_image_dataset_list = []\n",
        "for i in range(len(copied_class_names)):\n",
        "    string_class =  copied_class_names[i]\n",
        "    #print(string_class)\n",
        "    string_class_under = string_class.replace(\" \", \"_\")\n",
        "    #print(string_class_under)\n",
        "    classes_open_image_dataset_list.append(string_class_under)\n",
        "    classes_string = ' '.join(classes_open_image_dataset_list)\n",
        "print(f'Classes List: \\n {classes_open_image_dataset_list}')\n",
        "print(f'\\n Correct string for download with Toolkit: \\n {classes_string}')\n"
      ],
      "execution_count": null,
      "outputs": [
        {
          "output_type": "stream",
          "text": [
            "Classes List: \n",
            " ['Vehicle_registration_plate', 'Traffic_sign', 'Car', 'Human_body']\n",
            "\n",
            " Correct string for download with Toolkit: \n",
            " Vehicle_registration_plate Traffic_sign Car Human_body\n"
          ],
          "name": "stdout"
        }
      ]
    },
    {
      "cell_type": "markdown",
      "metadata": {
        "id": "SYrnbW0jZDYO"
      },
      "source": [
        "# Download + Annotate(YOLO) Dataset"
      ]
    },
    {
      "cell_type": "markdown",
      "metadata": {
        "id": "3i1JjQSEQcqz"
      },
      "source": [
        "## Download Training Set with multiple classes in one folder or only one class. For multiples use: -(flag: --multiclasses 1)"
      ]
    },
    {
      "cell_type": "code",
      "metadata": {
        "id": "wrV1NqiD51l3"
      },
      "source": [
        "## by hand quick \n",
        "#classes_string =  'Vehicle_registration_plate Traffic_sign Car Human_body'"
      ],
      "execution_count": null,
      "outputs": []
    },
    {
      "cell_type": "code",
      "metadata": {
        "id": "EPct6vBaCxPZ",
        "colab": {
          "base_uri": "https://localhost:8080/"
        },
        "outputId": "93d7f8e7-aae7-4b04-b4b7-93044fa7f392"
      },
      "source": [
        "## START DOWNLOAD DATASET\n",
        "if len(copied_class_names) > 1:\n",
        "    command_training_1 = 'yes Y | python main.py downloader --classes {} --type_csv train --limit {} --multiclass 1'.format(classes_string, nmbr_train_images)\n",
        "    command_training_2 = 'python main.py downloader --classes {} --type_csv train --limit {} --multiclass 1'.format(classes_string, nmbr_train_images)                                                                                                              \n",
        "    print(command_training_1)\n",
        "    print(command_training_2)\n",
        "else:\n",
        "    command_training_1 = 'yes Y |  python main.py downloader --classes {} --type_csv train --limit {}'.format(classes_string, nmbr_train_images)\n",
        "    command_training_2 = 'python main.py downloader --classes {} --type_csv train --limit {}'.format(classes_string, nmbr_train_images)                                                                                                              \n",
        "\n",
        "!$command_training_1\n",
        "!$command_training_2\n",
        "\n",
        "\n",
        "#!yes Y | python main.py downloader --classes $classes_string --type_csv train --limit $nmbr_train_images --multiclass 1\n",
        "#!python main.py downloader --classes $classes_string --type_csv train --limit $nmbr_train_images --multiclass 1"
      ],
      "execution_count": null,
      "outputs": [
        {
          "output_type": "stream",
          "text": [
            "yes Y | python main.py downloader --classes Vehicle_registration_plate Traffic_sign Car Human_body --type_csv train --limit 150 --multiclass 1\n",
            "python main.py downloader --classes Vehicle_registration_plate Traffic_sign Car Human_body --type_csv train --limit 150 --multiclass 1\n",
            "\u001b[92m\n",
            "\t\t   ___   _____  ______            _    _    \n",
            "\t\t .'   `.|_   _||_   _ `.         | |  | |   \n",
            "\t\t/  .-.  \\ | |    | | `. \\ _   __ | |__| |_  \n",
            "\t\t| |   | | | |    | |  | |[ \\ [  ]|____   _| \n",
            "\t\t\\  `-'  /_| |_  _| |_.' / \\ \\/ /     _| |_  \n",
            "\t\t `.___.'|_____||______.'   \\__/     |_____|\n",
            "\t\u001b[0m\n",
            "\u001b[92m\n",
            "             _____                    _                 _             \n",
            "            (____ \\                  | |               | |            \n",
            "             _   \\ \\ ___  _ _ _ ____ | | ___   ____  _ | | ____  ____ \n",
            "            | |   | / _ \\| | | |  _ \\| |/ _ \\ / _  |/ || |/ _  )/ ___)\n",
            "            | |__/ / |_| | | | | | | | | |_| ( ( | ( (_| ( (/ /| |    \n",
            "            |_____/ \\___/ \\____|_| |_|_|\\___/ \\_||_|\\____|\\____)_|    \n",
            "                                                          \n",
            "        \u001b[0m\n",
            "    [INFO] | Downloading ['Vehicle registration plate', 'Traffic sign', 'Car', 'Human body'] together.\u001b[0m\n",
            "\u001b[91m   [ERROR] | Missing the class-descriptions-boxable.csv file.\u001b[0m\n",
            "...145%, 0 MB, 64962 KB/s, 0 seconds passed\n",
            "\u001b[94m[DOWNLOAD] | File class-descriptions-boxable.csv downloaded into OID/csv_folder/class-descriptions-boxable.csv.\u001b[0m\n",
            "\u001b[91m   [ERROR] | Missing the train-annotations-bbox.csv file.\u001b[0m\n",
            "...100%, 1138 MB, 72532 KB/s, 16 seconds passed\n",
            "\u001b[94m[DOWNLOAD] | File train-annotations-bbox.csv downloaded into OID/csv_folder/train-annotations-bbox.csv.\u001b[0m\n",
            "stty: 'standard input': Inappropriate ioctl for device\n",
            "Traceback (most recent call last):\n",
            "  File \"main.py\", line 37, in <module>\n",
            "    bounding_boxes_images(args, DEFAULT_OID_DIR)\n",
            "  File \"/content/OIDv4_ToolKit/modules/bounding_boxes.py\", line 114, in bounding_boxes_images\n",
            "    download(args, df_val, folder[0], dataset_dir, class_name, class_dict[class_name], class_list)\n",
            "  File \"/content/OIDv4_ToolKit/modules/downloader.py\", line 22, in download\n",
            "    rows, columns = os.popen('stty size', 'r').read().split()\n",
            "ValueError: not enough values to unpack (expected 2, got 0)\n",
            "\u001b[92m\n",
            "\t\t   ___   _____  ______            _    _    \n",
            "\t\t .'   `.|_   _||_   _ `.         | |  | |   \n",
            "\t\t/  .-.  \\ | |    | | `. \\ _   __ | |__| |_  \n",
            "\t\t| |   | | | |    | |  | |[ \\ [  ]|____   _| \n",
            "\t\t\\  `-'  /_| |_  _| |_.' / \\ \\/ /     _| |_  \n",
            "\t\t `.___.'|_____||______.'   \\__/     |_____|\n",
            "\t\u001b[0m\n",
            "\u001b[92m\n",
            "             _____                    _                 _             \n",
            "            (____ \\                  | |               | |            \n",
            "             _   \\ \\ ___  _ _ _ ____ | | ___   ____  _ | | ____  ____ \n",
            "            | |   | / _ \\| | | |  _ \\| |/ _ \\ / _  |/ || |/ _  )/ ___)\n",
            "            | |__/ / |_| | | | | | | | | |_| ( ( | ( (_| ( (/ /| |    \n",
            "            |_____/ \\___/ \\____|_| |_|_|\\___/ \\_||_|\\____|\\____)_|    \n",
            "                                                          \n",
            "        \u001b[0m\n",
            "    [INFO] | Downloading ['Vehicle registration plate', 'Traffic sign', 'Car', 'Human body'] together.\u001b[0m\n",
            "\n",
            "\u001b[95mVehicle registration plate\u001b[0m\n",
            "    [INFO] | Downloading train images.\u001b[0m\n",
            "    [INFO] | [INFO] Found 5368 online images for train.\u001b[0m\n",
            "    [INFO] | Limiting to 150 images.\u001b[0m\n",
            "    [INFO] | Download of 150 images in train.\u001b[0m\n",
            "100% 150/150 [01:02<00:00,  2.41it/s]\n",
            "    [INFO] | Done!\u001b[0m\n",
            "    [INFO] | Creating labels for Vehicle registration plate of train.\u001b[0m\n",
            "    [INFO] | Labels creation completed.\u001b[0m\n",
            "\n",
            "\u001b[95mTraffic sign\u001b[0m\n",
            "    [INFO] | Downloading train images.\u001b[0m\n",
            "    [INFO] | [INFO] Found 2817 online images for train.\u001b[0m\n",
            "    [INFO] | Limiting to 150 images.\u001b[0m\n",
            "    [INFO] | Download of 146 images in train.\u001b[0m\n",
            "100% 146/146 [00:59<00:00,  2.44it/s]\n",
            "    [INFO] | Done!\u001b[0m\n",
            "    [INFO] | Creating labels for Traffic sign of train.\u001b[0m\n",
            "    [INFO] | Labels creation completed.\u001b[0m\n",
            "\n",
            "\u001b[95mCar\u001b[0m\n",
            "    [INFO] | Downloading train images.\u001b[0m\n",
            "    [INFO] | [INFO] Found 89465 online images for train.\u001b[0m\n",
            "    [INFO] | Limiting to 150 images.\u001b[0m\n",
            "    [INFO] | Download of 142 images in train.\u001b[0m\n",
            "100% 142/142 [00:59<00:00,  2.41it/s]\n",
            "    [INFO] | Done!\u001b[0m\n",
            "    [INFO] | Creating labels for Car of train.\u001b[0m\n",
            "    [INFO] | Labels creation completed.\u001b[0m\n",
            "\n",
            "\u001b[95mHuman body\u001b[0m\n",
            "    [INFO] | Downloading train images.\u001b[0m\n",
            "    [INFO] | [INFO] Found 45398 online images for train.\u001b[0m\n",
            "    [INFO] | Limiting to 150 images.\u001b[0m\n",
            "    [INFO] | Download of 150 images in train.\u001b[0m\n",
            "100% 150/150 [01:00<00:00,  2.47it/s]\n",
            "    [INFO] | Done!\u001b[0m\n",
            "    [INFO] | Creating labels for Human body of train.\u001b[0m\n",
            "    [INFO] | Labels creation completed.\u001b[0m\n"
          ],
          "name": "stdout"
        }
      ]
    },
    {
      "cell_type": "markdown",
      "metadata": {
        "id": "p_SJ1MTwVj3-"
      },
      "source": [
        "## Normalize labels + annotations of classes"
      ]
    },
    {
      "cell_type": "code",
      "metadata": {
        "id": "Xzaysdsuj7kn",
        "colab": {
          "base_uri": "https://localhost:8080/"
        },
        "outputId": "f2d3bd2e-3159-4e4d-8a2f-9edac21c5477"
      },
      "source": [
        "\"\"\"Create classes.txt in Toolkit folder each object class one line\n",
        "--->>  NO UNDERSCORES !!!!!!!! to normalize annotations of labels \"\"\" \n",
        "os.chdir(ROOT_DIR + '/' + Foldername_Toolkit) \n",
        "print(os.getcwd)\n",
        "\n",
        "with open('classes.txt', 'w') as f:\n",
        "    for classname in range(len(copied_class_names)):\n",
        "        f.write(copied_class_names[classname])\n",
        "        f.write(\"\\n\")"
      ],
      "execution_count": null,
      "outputs": [
        {
          "output_type": "stream",
          "text": [
            "<built-in function getcwd>\n"
          ],
          "name": "stdout"
        }
      ]
    },
    {
      "cell_type": "code",
      "metadata": {
        "id": "4cBCTdvyTt0v",
        "colab": {
          "base_uri": "https://localhost:8080/"
        },
        "outputId": "14c6154f-36f2-41e8-be53-6f39a8986753"
      },
      "source": [
        "# changes label annotations to YOLO format (classes from 0 to number of classes + \n",
        "# bounding boxes normalized [between 0 and 1])\n",
        "# works only if classes in classes.txt are exactly the same like in Open Images (NO UNDERSCOREs)\n",
        "#!!!!!!!!!!!!!!!!!!!!!!!!!!!!!\n",
        "\n",
        "os.chdir(ROOT_DIR + '/' + Foldername_Toolkit) \n",
        "!python convert_annotations.py\n",
        "\n",
        "##Special Thanks to TheAIGuy!!!\"\"\""
      ],
      "execution_count": null,
      "outputs": [
        {
          "output_type": "stream",
          "text": [
            "Currently in subdirectory: train\n",
            "Converting annotations for class:  Vehicle registration plate_Traffic sign_Car_Human body\n",
            "100% 588/588 [00:27<00:00, 21.45it/s]\n"
          ],
          "name": "stdout"
        }
      ]
    },
    {
      "cell_type": "markdown",
      "metadata": {
        "id": "hLbVo7sqVazW"
      },
      "source": [
        "# Copy Downloaded Dataset into Google Drive"
      ]
    },
    {
      "cell_type": "code",
      "metadata": {
        "id": "yHRtARxjLAbI",
        "colab": {
          "base_uri": "https://localhost:8080/"
        },
        "outputId": "9749aca3-1fe6-4162-8e32-ebf5190d015c"
      },
      "source": [
        "# create DATASET folder if doesnt exists\n",
        "path_dataset_folder_create = path_YOLO_create + '/' + DATASET_Folder_name\n",
        "print(path_dataset_folder_create)\n",
        "\n",
        "# create string like OID comes out\n",
        "for classname in range(len(copied_class_names)):\n",
        "        new_class_string = '_'.join(copied_class_names)\n",
        "print(new_class_string)\n",
        "\n",
        "path_dataset_concrete_folder_create = path_dataset_folder_create + '/' + new_class_string +'_'+ str(date) # + str(len(copied_class_names)) # +new_class_string \n",
        "print(path_dataset_concrete_folder_create)"
      ],
      "execution_count": null,
      "outputs": [
        {
          "output_type": "stream",
          "text": [
            "/content/gdrive/MyDrive/YOLO/DATASET\n",
            "Vehicle registration plate_Traffic sign_Car_Human body\n",
            "/content/gdrive/MyDrive/YOLO/DATASET/Vehicle registration plate_Traffic sign_Car_Human body_08_02_21\n"
          ],
          "name": "stdout"
        }
      ]
    },
    {
      "cell_type": "code",
      "metadata": {
        "id": "AxiRiKqLSoic",
        "colab": {
          "base_uri": "https://localhost:8080/"
        },
        "outputId": "80b5e058-155f-4fd5-c8fe-9ea722f2041f"
      },
      "source": [
        "#for i in range(len(copied_class_names)):\n",
        "    \n",
        "foldername_OID_dataset = '_'.join(copied_class_names)\n",
        "print(foldername_OID_dataset)\n",
        "\n",
        "path_folder_dataset = ROOT_DIR + '/' +Foldername_Toolkit + '/OID' + '/Dataset' + '/train/' + foldername_OID_dataset\n",
        "print(path_folder_dataset)\n",
        "\n",
        "os.chdir(ROOT_DIR)\n",
        "os.chdir(path_folder_dataset)\n",
        "\n",
        "if os.path.isdir('Label'):\n",
        "    shutil.rmtree('Label')\n",
        "else:\n",
        "  pass\n"
      ],
      "execution_count": null,
      "outputs": [
        {
          "output_type": "stream",
          "text": [
            "Vehicle registration plate_Traffic sign_Car_Human body\n",
            "/content/OIDv4_ToolKit/OID/Dataset/train/Vehicle registration plate_Traffic sign_Car_Human body\n"
          ],
          "name": "stdout"
        }
      ]
    },
    {
      "cell_type": "code",
      "metadata": {
        "id": "97Vnb0Z-nZ5J",
        "colab": {
          "base_uri": "https://localhost:8080/",
          "height": 36
        },
        "outputId": "0d10f026-eca3-451c-e57e-83fe8ddd4e16"
      },
      "source": [
        "#Remvove old dataset folder if exists\n",
        "if  os.path.exists(path_dataset_concrete_folder_create):\n",
        "  print('{} is a directory and deleted '.format(path_dataset_concrete_folder_create))\n",
        "  shutil.rmtree(path_dataset_concrete_folder_create)\n",
        "  \n",
        "#COPY DATASET into your FOLDER\n",
        "shutil.copytree(path_folder_dataset,  path_dataset_concrete_folder_create)\n",
        "path_to_classes_txt =  ROOT_DIR + '/' + Foldername_Toolkit + '/classes.txt'\n",
        "shutil.copy2(path_to_classes_txt, path_dataset_concrete_folder_create)"
      ],
      "execution_count": null,
      "outputs": [
        {
          "output_type": "execute_result",
          "data": {
            "application/vnd.google.colaboratory.intrinsic+json": {
              "type": "string"
            },
            "text/plain": [
              "'/content/gdrive/MyDrive/YOLO/DATASET/Vehicle registration plate_Traffic sign_Car_Human body_08_02_21/classes.txt'"
            ]
          },
          "metadata": {
            "tags": []
          },
          "execution_count": 21
        }
      ]
    },
    {
      "cell_type": "code",
      "metadata": {
        "id": "VmJHVSSjrEGC",
        "colab": {
          "base_uri": "https://localhost:8080/"
        },
        "outputId": "8959d780-8e03-4121-c006-46190fcc9c11"
      },
      "source": [
        "print('Dataset files in GDrive: {}'.format(os.listdir(path_dataset_concrete_folder_create)))\n",
        "print('Amount dataset (Images and corresponding textfiles: {}'.format(len(os.listdir(path_dataset_concrete_folder_create))))"
      ],
      "execution_count": null,
      "outputs": [
        {
          "output_type": "stream",
          "text": [
            "Dataset files in GDrive: ['classes.txt', 'data.yaml', 'valid', 'train', 'test']\n",
            "Amount dataset (Images and corresponding textfiles: 5\n"
          ],
          "name": "stdout"
        }
      ]
    },
    {
      "cell_type": "code",
      "metadata": {
        "id": "cvfxkjBofXif",
        "colab": {
          "base_uri": "https://localhost:8080/"
        },
        "outputId": "63919722-afd5-4023-fa35-df3faf8ec8f6"
      },
      "source": [
        "os.chdir(ROOT_DIR)\n",
        "!ls /mydrive"
      ],
      "execution_count": null,
      "outputs": [
        {
          "output_type": "stream",
          "text": [
            " 000_Medium\n",
            " 00_GAIA\n",
            " 00_Masterthesis\n",
            "'01_masterthesis_latex (38).docx'\n",
            "'01_masterthesis_latex (6).pdf'\n",
            "'02072019_LS_VarReg (1).gdoc'\n",
            "'02072019_LS_VarReg (2).gdoc'\n",
            " 02072019_LS_VarReg.gdoc\n",
            "'05082019_LS_FCB Hertha.gdoc'\n",
            "'06102019_CH_FCH _VFL BO (1).gdoc'\n",
            "'06102019_CH_FCH _VFL BO.gdoc'\n",
            "'09112019_CH_FCB _BVB.gdoc'\n",
            "'1019538758(1).csv'\n",
            " 1019538758.csv\n",
            "'~$102019_CH_FCH _VFL BO (1).gdoc'\n",
            "'~$102019_CH_FCH _VFL BO (2).gdoc'\n",
            "'~$102019_CH_FCH _VFL BO.gdoc'\n",
            "'2015-02-08 11.52.19.jpg'\n",
            " 20180327_Siemens_Airport_James.pptx\n",
            " 2019_Book_ThePythonWorkbook.pdf\n",
            " 20210209-8067977-umsatz.CSV\n",
            " 7_tage_inzidenz_03022021.pdf\n",
            " AI_ML\n",
            " amazon_rücksendung_Hemden_tracht.PNG\n",
            " Antrag-auf-Verlängerung-der-Frist-zur-Ablegung-der-GOP_Studienzeitverlängerung_TechFak.pdf\n",
            " Antragsformular_Anerkennung_WING-MB_BA.docx\n",
            " AttendeeGuide_QiskitGlobalSummerSchoolStudent.pdf\n",
            " Bewerbung_Jobs\n",
            "'Bewerbungsinfomrationen Consulting.docx'\n",
            " Bilder\n",
            " Bildungskredt_Master.pdf\n",
            "'bus 60.pdf'\n",
            " CGI_Design\n",
            " CICD_utils_CLI_click.drawio\n",
            " CICD_utils_CLI_Readme\n",
            " classes.txt\n",
            "'Colab Notebooks'\n",
            "'Cons (Automatisch gespeichert).docx'\n",
            " Cons.docx\n",
            " cons.pptx\n",
            "'contrato arrendamiento peru  hab 4 Christof Haring.docx'\n",
            " craft_mlt_25k.pth\n",
            " Crypto\n",
            " DATASETS_AI\n",
            " detection1.jpg\n",
            " Detlef_Maier_Diss_Druckfreigabe_20150130.pdf\n",
            " Dive_deepölearning.pdf\n",
            " DKB_finanz_2018.pdf\n",
            " DKB_finanz_2019.pdf\n",
            " DKB_finanz_2020.pdf\n",
            " DLExercise.rar\n",
            "'Document from Chris Harri'\n",
            " DSC_0019.jpg\n",
            " DSC_0253.JPG\n",
            "'Dyson Air Multiplier Am06.docx'\n",
            "'ElsterOnline - Privater Bereich - Formulare - Einkommensteuer - Versandbestätigung.pdf'\n",
            " ENFP_A.jpg\n",
            " ENFP_T.jpg\n",
            " ENTJ_A.jpg\n",
            " eTicket.pdf\n",
            "'FAU Passwortliste (Wiederhergestellt).gsheet'\n",
            " FREEWORK\n",
            "'fujistsu garantieverlängerung.docx'\n",
            "'Ganzseitiges Foto.pdf'\n",
            "'GdgDevParty Blockchain.gslides'\n",
            "'Gmail - Booking Confirmation - Hi Tide Hostel - 3892-126066158-65998.pdf'\n",
            "'IBM Summer school'\n",
            " IMG_20170523_141542201.jpg\n",
            " IMG_20170523_141757829.jpg\n",
            " IMG-20170703-WA0012.jpg\n",
            " IMG-20170703-WA0013.jpg\n",
            " IMG-20170703-WA0014.jpg\n",
            " IMG-20170703-WA0015.jpg\n",
            " IMG_20190121_092031.jpg\n",
            " Immatrikulatonsbeschedi__Bescheid_po69jojy_.pdf\n",
            " Last_call_payment_Jernej_Peteh.gdoc\n",
            "'Liebe Formula Student Kollegen.docx'\n",
            " Literatur\n",
            "'Machine Learning and Quantum Devices.pdf'\n",
            " Masterarbeit_ONEDRIVE_CLOUD_COPY_nomarkups.pdf\n",
            " Masterthesis_Haring.pdf\n",
            "'Master wing'\n",
            "'Ml coursera'\n",
            " ML_PIpeline_Flowchart-Page-1.pdf\n",
            "'My Drive'\n",
            "'ols test 2.pdf'\n",
            " OrgaLEBEN\n",
            " Präsentation_Räder_und_reifen.pdf\n",
            " PR_ML_DL_AI_NAO\n",
            " Projektarbeit_Vortrag\n",
            " Python_cheatsheets_all_datacamp.pdf\n",
            " python.pdf\n",
            " QAI\n",
            "'QAI linkedIN.gdoc'\n",
            "'QAI Q-Comp Literature .gsheet'\n",
            "'Qiskit Summer School'\n",
            " QML_HEP_eval_CH\n",
            "'qml resources for qiskit-school 2020.gdoc'\n",
            " QUANTUM\n",
            " QxQ\n",
            " reisepass.JPG\n",
            " Russian_Hacker_ATMS_GOOGLEGROUP_YOLO.pdf\n",
            " Scaled_YOLO_TF\n",
            " Scysanner_beweisfoto.PNG\n",
            " security_plan_Schaeffler_Belrose.pdf\n",
            "'SIEMENS EDGE CLI'\n",
            "'SMC Anschreiben.docx'\n",
            "'#Sometging is wrong here 2.jpg'\n",
            "'#Something is wrong here 1.jpg'\n",
            " Sparkasse_2018_2019.pdf\n",
            " Speechnotes\n",
            "'Starship renders '\n",
            " star_wars_leo.pdf\n",
            " stratton\n",
            " Studium\n",
            " Stundenplan.pdf\n",
            "'SüWü Schichten 2021.gsheet'\n",
            " Testimage_YOLOV3.jpg\n",
            "'Train_YoloV3 .ipynb'\n",
            " Travels\n",
            "'Unbenannte Tabelle.gsheet'\n",
            " Untermietvertrag_Zimmer_Immanuel_Oppolzer.pdf\n",
            " Untermietvertrag_Zimmer_Immanuel_Oppolzer.rtf\n",
            "'Vehicle Dynamics'\n",
            " YOLO\n",
            "'yolov3 ?'\n",
            " yolov4\n",
            " zulassungsbescheid_WING.pdf\n"
          ],
          "name": "stdout"
        }
      ]
    }
  ]
}